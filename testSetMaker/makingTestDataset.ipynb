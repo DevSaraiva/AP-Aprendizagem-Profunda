{
 "cells": [
  {
   "cell_type": "code",
   "execution_count": 1,
   "metadata": {},
   "outputs": [],
   "source": [
    "import pandas as pd\n",
    "import numpy as np\n",
    "import cv2\n",
    "import json\n",
    "import os\n",
    "import matplotlib.pyplot as plt\n",
    "import os\n",
    "\n",
    "\n",
    "image_directory_correct = \"./correct/\"\n",
    "image_directory_incorrect = \"./incorrect/\"\n",
    "image_directory_without = \"./without/\"\n",
    "\n",
    "\n",
    "output = './images/'\n"
   ]
  },
  {
   "cell_type": "code",
   "execution_count": 2,
   "metadata": {},
   "outputs": [],
   "source": [
    "def getJSON(filePathandName):\n",
    "    with open(filePathandName,'r') as f:\n",
    "        return json.load(f)"
   ]
  },
  {
   "cell_type": "code",
   "execution_count": 3,
   "metadata": {},
   "outputs": [],
   "source": [
    "cvNet = cv2.dnn.readNetFromCaffe('../caffe-face-detector-opencv-pretrained-model/architecture.txt','../caffe-face-detector-opencv-pretrained-model/weights.caffemodel')"
   ]
  },
  {
   "cell_type": "code",
   "execution_count": 4,
   "metadata": {},
   "outputs": [],
   "source": [
    "def adjust_gamma(image, gamma=1.0):\n",
    "    invGamma = 1.0 / gamma\n",
    "    table = np.array([((i / 255.0) ** invGamma) * 255 for i in np.arange(0, 256)])\n",
    "    return cv2.LUT(image.astype(np.uint8), table.astype(np.uint8))"
   ]
  },
  {
   "cell_type": "code",
   "execution_count": 5,
   "metadata": {},
   "outputs": [],
   "source": [
    "import sys\n",
    "sys.path.append(\"/home/saraiva/Desktop/University/SI/AP/TP/yoloface\")\n",
    "\n",
    "from face_detector import YoloDetector\n"
   ]
  },
  {
   "cell_type": "code",
   "execution_count": 6,
   "metadata": {},
   "outputs": [],
   "source": [
    "%matplotlib inline\n",
    "\n",
    "\n",
    "def predYOLOGraphic(test_images):\n",
    "\n",
    "    gamma = 2.0\n",
    "    fig2 = plt.figure(figsize = (14,14))\n",
    "    rows = 3\n",
    "    cols = 2\n",
    "    axes = []\n",
    "    assign = {0:\"mask\", 1:\"no_mask\" , 2:\"incorrect\"}\n",
    "\n",
    "    yolo = YoloDetector(target_size=720, device=\"cuda:0\", min_face=90)\n",
    "    for j,im in enumerate(test_images):\n",
    "        image =  cv2.imread(os.path.join(image_directory_correct,im),1)\n",
    "        image =  adjust_gamma(image, gamma=gamma)\n",
    "        image = cv2.resize(image, (992,720))\n",
    "        bboxes,_ = yolo.predict(image)\n",
    "        \n",
    "        \n",
    "        if len(bboxes[0]) != 1:\n",
    "            \n",
    "            try:\n",
    "                \n",
    "                startX, startY, endX, endY = bboxes[0][0][0], bboxes[0][0][1],bboxes[0][0][2],bboxes[0][0][3]\n",
    "                print(startX,startY,endX,endY)\n",
    "                cv2.rectangle(image, (startX, startY), (endX, endY), (0, 0, 255), 2)\n",
    "                cv2.putText(image,assign[2] , (startX, startY-10), cv2.FONT_HERSHEY_SIMPLEX, 1.5, (36,255,12), 2)\n",
    "            \n",
    "            except Exception as e:\n",
    "                print(e)\n",
    "            \n",
    "        axes.append(fig2.add_subplot(rows, cols, j+1))\n",
    "        plt.imshow(cv2.cvtColor(image, cv2.COLOR_BGR2RGB))\n",
    "    plt.show()\n",
    "    "
   ]
  },
  {
   "cell_type": "code",
   "execution_count": 7,
   "metadata": {},
   "outputs": [],
   "source": [
    "def predYOLO(img,image_directory):\n",
    "\n",
    "    res = []\n",
    "    gamma = 2.0\n",
    "    yolo = YoloDetector(target_size=720, device=\"cuda:0\", min_face=90)\n",
    "    \n",
    "    image =  cv2.imread(os.path.join(image_directory,img),1)\n",
    "    image =  adjust_gamma(image, gamma=gamma)\n",
    "    image = cv2.resize(image, (992,720))\n",
    "    cv2.imwrite(output + img,image)\n",
    "    bboxes,_ = yolo.predict(image)\n",
    "    \n",
    "    for i in range(0, len(bboxes[0])):\n",
    "        startX, startY, endX, endY = bboxes[0][i][0], bboxes[0][i][1],bboxes[0][i][2],bboxes[0][i][3]\n",
    "        res.append([startX, startY, endX, endY])\n",
    "\n",
    "    return res\n",
    "\n",
    "\n"
   ]
  },
  {
   "cell_type": "code",
   "execution_count": 8,
   "metadata": {},
   "outputs": [
    {
     "name": "stdout",
     "output_type": "stream",
     "text": [
      "cuda:0\n",
      "/home/saraiva/Desktop/University/SI/AP/TP/yoloface/weights/yolov5n_state_dict.pt\n",
      "[[355, 235, 508, 412]]\n",
      "cuda:0\n",
      "/home/saraiva/Desktop/University/SI/AP/TP/yoloface/weights/yolov5n_state_dict.pt\n",
      "[[392, 136, 711, 512]]\n",
      "cuda:0\n",
      "/home/saraiva/Desktop/University/SI/AP/TP/yoloface/weights/yolov5n_state_dict.pt\n",
      "[[264, 37, 588, 316]]\n",
      "cuda:0\n",
      "/home/saraiva/Desktop/University/SI/AP/TP/yoloface/weights/yolov5n_state_dict.pt\n",
      "[[403, 0, 831, 474]]\n",
      "cuda:0\n",
      "/home/saraiva/Desktop/University/SI/AP/TP/yoloface/weights/yolov5n_state_dict.pt\n",
      "[[273, 107, 466, 351], [484, 142, 567, 252], [652, 273, 777, 427]]\n",
      "cuda:0\n",
      "/home/saraiva/Desktop/University/SI/AP/TP/yoloface/weights/yolov5n_state_dict.pt\n",
      "[]\n",
      "cuda:0\n",
      "/home/saraiva/Desktop/University/SI/AP/TP/yoloface/weights/yolov5n_state_dict.pt\n",
      "[[307, 157, 580, 478]]\n",
      "cuda:0\n",
      "/home/saraiva/Desktop/University/SI/AP/TP/yoloface/weights/yolov5n_state_dict.pt\n",
      "[[558, 113, 748, 353]]\n",
      "cuda:0\n",
      "/home/saraiva/Desktop/University/SI/AP/TP/yoloface/weights/yolov5n_state_dict.pt\n",
      "[[310, 126, 490, 373]]\n",
      "cuda:0\n",
      "/home/saraiva/Desktop/University/SI/AP/TP/yoloface/weights/yolov5n_state_dict.pt\n",
      "[[368, 12, 614, 340]]\n",
      "cuda:0\n",
      "/home/saraiva/Desktop/University/SI/AP/TP/yoloface/weights/yolov5n_state_dict.pt\n",
      "[[396, 96, 552, 224]]\n",
      "cuda:0\n",
      "/home/saraiva/Desktop/University/SI/AP/TP/yoloface/weights/yolov5n_state_dict.pt\n"
     ]
    },
    {
     "ename": "KeyboardInterrupt",
     "evalue": "",
     "output_type": "error",
     "traceback": [
      "\u001b[0;31m---------------------------------------------------------------------------\u001b[0m",
      "\u001b[0;31mKeyboardInterrupt\u001b[0m                         Traceback (most recent call last)",
      "\u001b[0;32m/tmp/ipykernel_21742/1429311808.py\u001b[0m in \u001b[0;36m<module>\u001b[0;34m\u001b[0m\n\u001b[1;32m     19\u001b[0m \u001b[0mdirectories\u001b[0m \u001b[0;34m=\u001b[0m \u001b[0;34m[\u001b[0m\u001b[0;34m[\u001b[0m\u001b[0mimage_directory_incorrect\u001b[0m\u001b[0;34m,\u001b[0m\u001b[0;36m2\u001b[0m\u001b[0;34m]\u001b[0m\u001b[0;34m,\u001b[0m\u001b[0;34m[\u001b[0m\u001b[0mimage_directory_correct\u001b[0m\u001b[0;34m,\u001b[0m\u001b[0;36m0\u001b[0m\u001b[0;34m]\u001b[0m\u001b[0;34m,\u001b[0m\u001b[0;34m[\u001b[0m\u001b[0mimage_directory_without\u001b[0m\u001b[0;34m,\u001b[0m\u001b[0;36m1\u001b[0m\u001b[0;34m]\u001b[0m\u001b[0;34m]\u001b[0m\u001b[0;34m\u001b[0m\u001b[0;34m\u001b[0m\u001b[0m\n\u001b[1;32m     20\u001b[0m \u001b[0;34m\u001b[0m\u001b[0m\n\u001b[0;32m---> 21\u001b[0;31m \u001b[0mcreateDf\u001b[0m\u001b[0;34m(\u001b[0m\u001b[0mdirectories\u001b[0m\u001b[0;34m)\u001b[0m\u001b[0;34m\u001b[0m\u001b[0;34m\u001b[0m\u001b[0m\n\u001b[0m\u001b[1;32m     22\u001b[0m \u001b[0;34m\u001b[0m\u001b[0m\n",
      "\u001b[0;32m/tmp/ipykernel_21742/1429311808.py\u001b[0m in \u001b[0;36mcreateDf\u001b[0;34m(directories)\u001b[0m\n\u001b[1;32m      8\u001b[0m \u001b[0;34m\u001b[0m\u001b[0m\n\u001b[1;32m      9\u001b[0m         \u001b[0;32mfor\u001b[0m \u001b[0mf\u001b[0m \u001b[0;32min\u001b[0m \u001b[0mfiles\u001b[0m\u001b[0;34m:\u001b[0m\u001b[0;34m\u001b[0m\u001b[0;34m\u001b[0m\u001b[0m\n\u001b[0;32m---> 10\u001b[0;31m             \u001b[0mbbs\u001b[0m \u001b[0;34m=\u001b[0m \u001b[0mpredYOLO\u001b[0m\u001b[0;34m(\u001b[0m\u001b[0mf\u001b[0m\u001b[0;34m,\u001b[0m\u001b[0md\u001b[0m\u001b[0;34m)\u001b[0m\u001b[0;34m\u001b[0m\u001b[0;34m\u001b[0m\u001b[0m\n\u001b[0m\u001b[1;32m     11\u001b[0m             \u001b[0mprint\u001b[0m\u001b[0;34m(\u001b[0m\u001b[0mbbs\u001b[0m\u001b[0;34m)\u001b[0m\u001b[0;34m\u001b[0m\u001b[0;34m\u001b[0m\u001b[0m\n\u001b[1;32m     12\u001b[0m             \u001b[0;32mfor\u001b[0m \u001b[0mbb\u001b[0m \u001b[0;32min\u001b[0m \u001b[0mbbs\u001b[0m\u001b[0;34m:\u001b[0m\u001b[0;34m\u001b[0m\u001b[0;34m\u001b[0m\u001b[0m\n",
      "\u001b[0;32m/tmp/ipykernel_21742/2671755188.py\u001b[0m in \u001b[0;36mpredYOLO\u001b[0;34m(img, image_directory)\u001b[0m\n\u001b[1;32m      8\u001b[0m     \u001b[0mimage\u001b[0m \u001b[0;34m=\u001b[0m  \u001b[0madjust_gamma\u001b[0m\u001b[0;34m(\u001b[0m\u001b[0mimage\u001b[0m\u001b[0;34m,\u001b[0m \u001b[0mgamma\u001b[0m\u001b[0;34m=\u001b[0m\u001b[0mgamma\u001b[0m\u001b[0;34m)\u001b[0m\u001b[0;34m\u001b[0m\u001b[0;34m\u001b[0m\u001b[0m\n\u001b[1;32m      9\u001b[0m     \u001b[0mimage\u001b[0m \u001b[0;34m=\u001b[0m \u001b[0mcv2\u001b[0m\u001b[0;34m.\u001b[0m\u001b[0mresize\u001b[0m\u001b[0;34m(\u001b[0m\u001b[0mimage\u001b[0m\u001b[0;34m,\u001b[0m \u001b[0;34m(\u001b[0m\u001b[0;36m992\u001b[0m\u001b[0;34m,\u001b[0m\u001b[0;36m720\u001b[0m\u001b[0;34m)\u001b[0m\u001b[0;34m)\u001b[0m\u001b[0;34m\u001b[0m\u001b[0;34m\u001b[0m\u001b[0m\n\u001b[0;32m---> 10\u001b[0;31m     \u001b[0mcv2\u001b[0m\u001b[0;34m.\u001b[0m\u001b[0mimwrite\u001b[0m\u001b[0;34m(\u001b[0m\u001b[0mimg\u001b[0m\u001b[0;34m,\u001b[0m\u001b[0mimage\u001b[0m\u001b[0;34m)\u001b[0m\u001b[0;34m\u001b[0m\u001b[0;34m\u001b[0m\u001b[0m\n\u001b[0m\u001b[1;32m     11\u001b[0m     \u001b[0mbboxes\u001b[0m\u001b[0;34m,\u001b[0m\u001b[0m_\u001b[0m \u001b[0;34m=\u001b[0m \u001b[0myolo\u001b[0m\u001b[0;34m.\u001b[0m\u001b[0mpredict\u001b[0m\u001b[0;34m(\u001b[0m\u001b[0mimage\u001b[0m\u001b[0;34m)\u001b[0m\u001b[0;34m\u001b[0m\u001b[0;34m\u001b[0m\u001b[0m\n\u001b[1;32m     12\u001b[0m \u001b[0;34m\u001b[0m\u001b[0m\n",
      "\u001b[0;31mKeyboardInterrupt\u001b[0m: "
     ]
    }
   ],
   "source": [
    "\n",
    "\n",
    "def createDf(directories):\n",
    "\n",
    "    df = pd.DataFrame(columns = ['name','x1', 'x2','y1','y2','classname'])\n",
    "\n",
    "    for d,label in directories:\n",
    "\n",
    "        files = os.listdir(d)\n",
    "\n",
    "        for f in files:\n",
    "            bbs = predYOLO(f,d)\n",
    "            print(bbs)\n",
    "            for bb in bbs:\n",
    "                    startX, startY, endX, endY = bb\n",
    "                    df = df.append({'name' : f, 'x1' : startX, 'x2' : endX, 'y1':startY, 'y2':endY, 'classname':label},ignore_index = True)\n",
    "\n",
    "\n",
    "    df.to_csv('test.csv')\n",
    "\n",
    "directories = [[image_directory_incorrect,2],[image_directory_correct,0],[image_directory_without,1]]\n",
    "\n",
    "createDf(directories)\n",
    "\n"
   ]
  }
 ],
 "metadata": {
  "kernelspec": {
   "display_name": "daa",
   "language": "python",
   "name": "python3"
  },
  "language_info": {
   "codemirror_mode": {
    "name": "ipython",
    "version": 3
   },
   "file_extension": ".py",
   "mimetype": "text/x-python",
   "name": "python",
   "nbconvert_exporter": "python",
   "pygments_lexer": "ipython3",
   "version": "3.7.15"
  },
  "orig_nbformat": 4
 },
 "nbformat": 4,
 "nbformat_minor": 2
}
